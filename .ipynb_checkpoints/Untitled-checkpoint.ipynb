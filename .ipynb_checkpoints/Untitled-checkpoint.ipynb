{
 "cells": [
  {
   "cell_type": "code",
   "execution_count": 73,
   "id": "2a6962bf-00bb-4b14-83db-ae7a2b6c5185",
   "metadata": {},
   "outputs": [],
   "source": [
    "import os\n",
    "import re"
   ]
  },
  {
   "cell_type": "code",
   "execution_count": 74,
   "id": "2ad8c4bc-4d63-41a4-9d1c-032f14c9f38c",
   "metadata": {},
   "outputs": [],
   "source": [
    "def string_num_sort(magpi):\n",
    "    return list(map(int, re.findall(r'\\d+', magpi)))"
   ]
  },
  {
   "cell_type": "code",
   "execution_count": 75,
   "id": "b4dcb437-29ea-4fc4-ac68-b5814366aa9d",
   "metadata": {},
   "outputs": [],
   "source": [
    "arr = os.listdir('/Users/divyachandana/Documents/USA/God/raspi-pdfs')"
   ]
  },
  {
   "cell_type": "code",
   "execution_count": 76,
   "id": "0d03a6d9-4822-4784-ac28-91c69028b5d7",
   "metadata": {},
   "outputs": [],
   "source": [
    "# arr"
   ]
  },
  {
   "cell_type": "code",
   "execution_count": 77,
   "id": "4c88c923-5023-4616-af05-943715fc531e",
   "metadata": {},
   "outputs": [],
   "source": [
    "# os.path.abspath('raspi-pdfs/MagPi81.pdf')"
   ]
  },
  {
   "cell_type": "code",
   "execution_count": 78,
   "id": "f43ad03c-b680-46d7-ae4b-2404a2b71773",
   "metadata": {},
   "outputs": [],
   "source": [
    "files_path_magpi = [os.path.abspath('raspi-pdfs/'+x) for x in os.listdir('/Users/divyachandana/Documents/USA/God/raspi-pdfs')]\n"
   ]
  },
  {
   "cell_type": "code",
   "execution_count": 79,
   "id": "f4794418-7b08-41b0-8be4-0ea39fea0175",
   "metadata": {},
   "outputs": [
    {
     "data": {
      "text/plain": [
       "'/Users/divyachandana/Documents/USA/God/raspi-pdfs/MagPi81.pdf'"
      ]
     },
     "execution_count": 79,
     "metadata": {},
     "output_type": "execute_result"
    }
   ],
   "source": [
    "files_path_magpi[-1]"
   ]
  },
  {
   "cell_type": "code",
   "execution_count": 80,
   "id": "602ed117-ba38-477a-8ac6-0740d2460cd9",
   "metadata": {},
   "outputs": [],
   "source": [
    "files_path_magpi.sort(key=string_num_sort, reverse=False)"
   ]
  },
  {
   "cell_type": "code",
   "execution_count": 81,
   "id": "caa240ba-88c9-4362-8014-25b6e7dec269",
   "metadata": {},
   "outputs": [],
   "source": [
    "# files_path_magpi"
   ]
  },
  {
   "cell_type": "code",
   "execution_count": 82,
   "id": "ef9211c6-1751-4bf4-8c2c-f865cdd56b3a",
   "metadata": {},
   "outputs": [
    {
     "data": {
      "text/plain": [
       "120"
      ]
     },
     "execution_count": 82,
     "metadata": {},
     "output_type": "execute_result"
    }
   ],
   "source": [
    "len(files_path_magpi)"
   ]
  },
  {
   "cell_type": "code",
   "execution_count": 83,
   "id": "53a2726e-8cc7-4326-819c-cded4afdf9c0",
   "metadata": {},
   "outputs": [],
   "source": [
    "from PyPDF2 import PdfFileReader, PdfFileWriter"
   ]
  },
  {
   "cell_type": "code",
   "execution_count": 86,
   "id": "acb5d9cb-3e83-4f4b-b2e2-704627b38bbd",
   "metadata": {},
   "outputs": [
    {
     "name": "stdout",
     "output_type": "stream",
     "text": [
      "43\n",
      "44\n",
      "45\n",
      "46\n",
      "47\n",
      "48\n",
      "49\n",
      "50\n",
      "51\n",
      "52\n",
      "53\n",
      "54\n",
      "55\n",
      "56\n",
      "57\n",
      "58\n",
      "59\n",
      "60\n",
      "61\n",
      "62\n",
      "63\n",
      "64\n",
      "65\n",
      "66\n",
      "67\n",
      "68\n",
      "69\n",
      "70\n",
      "71\n",
      "72\n",
      "73\n",
      "74\n",
      "75\n",
      "76\n",
      "77\n",
      "78\n",
      "79\n",
      "80\n",
      "81\n",
      "82\n",
      "83\n",
      "84\n",
      "85\n",
      "86\n",
      "87\n",
      "88\n",
      "89\n",
      "90\n",
      "91\n",
      "92\n",
      "93\n",
      "94\n",
      "95\n",
      "96\n",
      "97\n",
      "98\n",
      "99\n",
      "100\n",
      "101\n",
      "102\n",
      "103\n",
      "104\n",
      "105\n",
      "106\n",
      "107\n",
      "108\n",
      "109\n",
      "110\n",
      "111\n",
      "112\n",
      "113\n",
      "114\n",
      "115\n",
      "116\n",
      "117\n",
      "118\n",
      "119\n",
      "Wait for it Writing into PDF\n"
     ]
    }
   ],
   "source": [
    "all_magpi = PdfFileWriter()\n",
    "for index,magpi in enumerate(files_path_magpi):\n",
    "    if index >=43:\n",
    "        print(index)\n",
    "        reader = PdfFileReader(magpi, strict=False)\n",
    "        if index >=93:\n",
    "            all_magpi.add_page(reader.getPage(0))\n",
    "            all_magpi.add_page(reader.getPage(4))\n",
    "            all_magpi.add_page(reader.getPage(5))\n",
    "        else:\n",
    "            all_magpi.add_page(reader.getPage(0))\n",
    "            all_magpi.add_page(reader.getPage(3))\n",
    "            all_magpi.add_page(reader.getPage(4))\n",
    "        \n",
    "        \n",
    "        \n",
    "with open('allmagpi.pdf','wb') as out:\n",
    "    print('Wait for it Writing into PDF')\n",
    "    all_magpi.write(out)\n",
    "    \n",
    "# all_magpi\n",
    "\n",
    "    "
   ]
  },
  {
   "cell_type": "code",
   "execution_count": null,
   "id": "08da58b2-af85-472e-8e9d-f4d259b56872",
   "metadata": {},
   "outputs": [],
   "source": [
    "all_magpi = PdfFileWriter()\n",
    "for index,magpi in enumerate(files_path_magpi):\n",
    "    if index >=43:\n",
    "        # print(index)\n",
    "        reader = PdfFileReader(magpi, strict=False)\n",
    "        all_magpi.add_page(reader.getPage(0))\n",
    "        # if index >=93:\n",
    "        #     all_magpi.add_page(reader.getPage(0))\n",
    "        #     all_magpi.add_page(reader.getPage(4))\n",
    "        #     all_magpi.add_page(reader.getPage(5))\n",
    "        # else:\n",
    "        #     all_magpi.add_page(reader.getPage(0))\n",
    "        #     all_magpi.add_page(reader.getPage(3))\n",
    "        #     all_magpi.add_page(reader.getPage(4))\n",
    "        \n",
    "        \n",
    "        \n",
    "with open('allmagpi_front_page.pdf','wb') as out:\n",
    "    print('Wait for it Writing into PDF')\n",
    "    all_magpi.write(out)\n",
    "    \n",
    "# all_magpi\n",
    "\n",
    "    "
   ]
  }
 ],
 "metadata": {
  "kernelspec": {
   "display_name": "Python 3 (ipykernel)",
   "language": "python",
   "name": "python3"
  },
  "language_info": {
   "codemirror_mode": {
    "name": "ipython",
    "version": 3
   },
   "file_extension": ".py",
   "mimetype": "text/x-python",
   "name": "python",
   "nbconvert_exporter": "python",
   "pygments_lexer": "ipython3",
   "version": "3.9.7"
  }
 },
 "nbformat": 4,
 "nbformat_minor": 5
}
